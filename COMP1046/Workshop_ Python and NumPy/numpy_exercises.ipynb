{
 "cells": [
  {
   "cell_type": "code",
   "execution_count": 2,
   "id": "23c8154d-4ee1-4e5a-a5db-c6b1014a4d10",
   "metadata": {},
   "outputs": [],
   "source": [
    "# Numpy exercises (COMP1046)\n",
    "import numpy as np"
   ]
  },
  {
   "cell_type": "code",
   "execution_count": 3,
   "id": "9e9220d8-7fc7-497a-9378-d39fd26d225f",
   "metadata": {},
   "outputs": [
    {
     "name": "stdout",
     "output_type": "stream",
     "text": [
      "[[2 3]\n",
      " [5 6]\n",
      " [1 7]]\n",
      "[[4 1 5 0]\n",
      " [3 2 6 3]]\n",
      "True\n"
     ]
    }
   ],
   "source": [
    "# Exercise 1\n",
    "\n",
    "A = np.array([[2,3], [5,6], [1,7]])\n",
    "B = np.array([[4,1,5,0],[3,2,6,3]])\n",
    "print(A)\n",
    "print(B)\n",
    "\n",
    "print(all(A[1,:]==B[:,2]) )"
   ]
  },
  {
   "cell_type": "code",
   "execution_count": 4,
   "id": "33500f19-9442-4256-9c30-f150e0cb7523",
   "metadata": {},
   "outputs": [
    {
     "name": "stdout",
     "output_type": "stream",
     "text": [
      "[[4 4 5 0]\n",
      " [3 3 6 3]\n",
      " [4 2 5 0]\n",
      " [3 1 6 3]]\n",
      "[[4 1 5 0]\n",
      " [3 2 6 3]]\n"
     ]
    }
   ],
   "source": [
    "# Exercise 2\n",
    "\n",
    "C = np.concatenate( (B,B) )\n",
    "C[:,1] = [4,3,2,1]\n",
    "print(C)\n",
    "print(B)"
   ]
  },
  {
   "cell_type": "code",
   "execution_count": 8,
   "id": "147b2fd3-fcbb-4e93-92bf-0332eeb0b00f",
   "metadata": {},
   "outputs": [
    {
     "name": "stdout",
     "output_type": "stream",
     "text": [
      "[[ 0  3  4  0]\n",
      " [-1  0  2  1]\n",
      " [ 3  1 -1 -2]\n",
      " [-1  1  1  0]]\n",
      "Determinant of D is -4.0.\n",
      "Inverse of D is\n",
      "[[ 0.5  -0.5  -0.25 -1.25]\n",
      " [ 1.   -2.   -1.   -1.  ]\n",
      " [-0.5   1.5   0.75  0.75]\n",
      " [ 1.5  -2.5  -1.75 -2.75]]\n",
      "Rank of D is 4.\n"
     ]
    }
   ],
   "source": [
    "# Exercise 3\n",
    "\n",
    "D = np.array( [[0,3,4,0], [-1,0,2,1], [3,1,-1,-2], [-1,1,1,0]] )\n",
    "print(D)\n",
    "\n",
    "print(f\"Determinant of D is {np.linalg.det(D)}.\")\n",
    "print(\"Inverse of D is\")\n",
    "print(np.linalg.inv(D))\n",
    "print(f\"Rank of D is {np.linalg.matrix_rank(D)}.\")\n"
   ]
  },
  {
   "cell_type": "code",
   "execution_count": 14,
   "id": "a23fa944-9337-4d82-978b-85c00fe7a10b",
   "metadata": {},
   "outputs": [
    {
     "data": {
      "text/plain": [
       "array([[3., 1.]])"
      ]
     },
     "execution_count": 14,
     "metadata": {},
     "output_type": "execute_result"
    }
   ],
   "source": [
    "# Exercise 4\n",
    "\n",
    "def secondary_diagonal(M):\n",
    "    sd = np.zeros( (1, min(M.shape)) )\n",
    "    for i in range(sd.shape[1]):\n",
    "      sd[0,i] = M[i, M.shape[1]-i-1]\n",
    "    return sd\n",
    "\n",
    "secondary_diagonal(D)\n",
    "secondary_diagonal(B)\n",
    "secondary_diagonal(B.transpose() ) # extra test"
   ]
  },
  {
   "cell_type": "code",
   "execution_count": null,
   "id": "1c903efa-5108-4d4f-bc0c-9a14205b44e7",
   "metadata": {},
   "outputs": [],
   "source": []
  }
 ],
 "metadata": {
  "kernelspec": {
   "display_name": "Python 3 (ipykernel)",
   "language": "python",
   "name": "python3"
  },
  "language_info": {
   "codemirror_mode": {
    "name": "ipython",
    "version": 3
   },
   "file_extension": ".py",
   "mimetype": "text/x-python",
   "name": "python",
   "nbconvert_exporter": "python",
   "pygments_lexer": "ipython3",
   "version": "3.12.2"
  }
 },
 "nbformat": 4,
 "nbformat_minor": 5
}
